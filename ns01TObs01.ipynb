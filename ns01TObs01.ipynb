{
 "cells": [
  {
   "cell_type": "code",
   "execution_count": 1,
   "metadata": {
    "collapsed": true
   },
   "outputs": [],
   "source": [
    "import os, sys\n",
    "import pickle\n",
    "import pygrib\n",
    "import datetime\n",
    "import numpy as np\n",
    "import numpy.ma as ma\n",
    "import collections\n",
    "%matplotlib inline\n",
    "import matplotlib.pyplot as plt\n",
    "from netCDF4 import Dataset\n",
    "from  more_itertools import unique_everseen\n",
    "plt.rcParams['figure.figsize'] = 16, 12"
   ]
  },
  {
   "cell_type": "markdown",
   "metadata": {},
   "source": [
    "## Reading 3d salinity from Hiromb BS01 file\n",
    "Salinity are used as a land/sea mask."
   ]
  },
  {
   "cell_type": "code",
   "execution_count": 17,
   "metadata": {
    "collapsed": false
   },
   "outputs": [],
   "source": [
    "lev = [grbMsg.level for grbMsg in filter(lambda grbMsg: grbMsg.name in ['Salinity'],\n",
    "                                         pygrib.open('BS01_201611290000+000H00M'))]\n",
    "sal = np.array([grbMsg.values for grbMsg in filter(lambda grbMsg: grbMsg.name in ['Salinity'],\n",
    "                                                   pygrib.open('BS01_201611290000+000H00M'))])"
   ]
  },
  {
   "cell_type": "code",
   "execution_count": 18,
   "metadata": {
    "collapsed": false
   },
   "outputs": [],
   "source": [
    "lat = [round(c, 4) for c in unique_everseen(f[1]['latitudes'])]\n",
    "lon = [round(c, 4) for c in unique_everseen(f[1]['longitudes'])]"
   ]
  },
  {
   "cell_type": "markdown",
   "metadata": {},
   "source": [
    "## Reading 3d salinity from Nemo-Nordic NS01 file"
   ]
  },
  {
   "cell_type": "code",
   "execution_count": 21,
   "metadata": {
    "collapsed": true
   },
   "outputs": [],
   "source": [
    "f2 = Dataset('NS01_3D_2016112900.nc')"
   ]
  },
  {
   "cell_type": "code",
   "execution_count": 22,
   "metadata": {
    "collapsed": false
   },
   "outputs": [],
   "source": [
    "sal2 = np.array(f2.variables['salinity'][0,:,:,:])"
   ]
  },
  {
   "cell_type": "code",
   "execution_count": 23,
   "metadata": {
    "collapsed": true
   },
   "outputs": [],
   "source": [
    "lev2 = [round(d) for d in f2.variables['deptht'][:]]\n",
    "lat2 = [round(c, 4) for c in unique_everseen(f2.variables['nav_lat'][:].ravel())]\n",
    "lat2 = sorted(lat2)[1:]\n",
    "lon2 = [round(c, 4) for c in unique_everseen(f2.variables['nav_lon'][:].ravel())]\n",
    "lon2 = sorted(lon2)[1:]"
   ]
  },
  {
   "cell_type": "markdown",
   "metadata": {},
   "source": [
    "## Function for nudging cell indexies into water"
   ]
  },
  {
   "cell_type": "code",
   "execution_count": 24,
   "metadata": {
    "collapsed": false
   },
   "outputs": [],
   "source": [
    "def search_wet(field, x, y, n):\n",
    "    for nudge in ((0,1), (1,0), (0,-1), (-1,0), (1,2), (2,1), (1,-2),\n",
    "                (-2,1), (-1,2), (2,-1), (2,2), (-2,2), (2,-2), (-2,-2)):\n",
    "        try:\n",
    "            if field[n, y+nudge[1], x+nudge[0]] < 9999:\n",
    "                return (x+nudge[0], y+nudge[1], n)\n",
    "        except:\n",
    "            continue"
   ]
  },
  {
   "cell_type": "markdown",
   "metadata": {},
   "source": [
    "## Looping over all cells in target grid. Finding the closest cell in the input grid."
   ]
  },
  {
   "cell_type": "code",
   "execution_count": 26,
   "metadata": {
    "collapsed": false,
    "scrolled": true
   },
   "outputs": [],
   "source": [
    "amap = {}\n",
    "for n in range(sal.shape[0]):\n",
    "    n2 = min(range(len(lev2)), key=lambda i: abs(lev2[i]-lev[n]))\n",
    "    for x in range(sal[0].shape[1]):\n",
    "        for y in range(sal[0].shape[0]):\n",
    "            if sal[n, y, x] != 9999:\n",
    "                try:\n",
    "                    x2 = lon2.index(lon[x])\n",
    "                except:\n",
    "                    x2 = min(range(len(lon2)), key=lambda i: abs(lon2[i]-lon[x]))\n",
    "                try:\n",
    "                    y2 = lat2.index(lat[y]-0.05)\n",
    "                except:\n",
    "                    y2 = min(range(len(lat2)), key=lambda i: abs(lat2[i]-(lat[y]-0.05)))\n",
    "                if sal2[n2, y2, x2] == 1:\n",
    "                    amap[(x, y, n)] = (x2, y2, n2)\n",
    "                else:\n",
    "                    amap[(x, y, n)] = search_wet(sal2, x2, y2, n2)"
   ]
  },
  {
   "cell_type": "markdown",
   "metadata": {},
   "source": [
    "### Number of wet cells in BS01"
   ]
  },
  {
   "cell_type": "code",
   "execution_count": 27,
   "metadata": {
    "collapsed": false
   },
   "outputs": [
    {
     "data": {
      "text/plain": [
       "1918522"
      ]
     },
     "execution_count": 27,
     "metadata": {},
     "output_type": "execute_result"
    }
   ],
   "source": [
    "len(amap)"
   ]
  },
  {
   "cell_type": "markdown",
   "metadata": {},
   "source": [
    "### Save map, bs01 grid skelleton and bs01 levels in cPickle file"
   ]
  },
  {
   "cell_type": "code",
   "execution_count": 26,
   "metadata": {
    "collapsed": true
   },
   "outputs": [],
   "source": [
    "bs01_skel = sal"
   ]
  },
  {
   "cell_type": "code",
   "execution_count": 27,
   "metadata": {
    "collapsed": true
   },
   "outputs": [],
   "source": [
    "pickle.dump((amap, bs01_skel, lev), open('/home/a001988/Documents/bs01_map5.p', 'wb'))"
   ]
  }
 ],
 "metadata": {
  "kernelspec": {
   "display_name": "Python 2",
   "language": "python",
   "name": "python2"
  },
  "language_info": {
   "codemirror_mode": {
    "name": "ipython",
    "version": 2
   },
   "file_extension": ".py",
   "mimetype": "text/x-python",
   "name": "python",
   "nbconvert_exporter": "python",
   "pygments_lexer": "ipython2",
   "version": "2.7.5"
  }
 },
 "nbformat": 4,
 "nbformat_minor": 0
}
